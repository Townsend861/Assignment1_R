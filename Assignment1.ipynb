{
 "cells": [
  {
   "cell_type": "code",
   "execution_count": 2,
   "id": "instrumental-quarter",
   "metadata": {},
   "outputs": [
    {
     "name": "stdout",
     "output_type": "stream",
     "text": [
      "         y       x\n",
      "1   6.8102  9.8492\n",
      "2   9.8437 11.1450\n",
      "3   4.9767  5.1209\n",
      "4   5.0006  8.1085\n",
      "5   3.5047  3.5599\n",
      "6   3.6419  1.9883\n",
      "7   7.8725 15.5322\n",
      "8   5.1442  7.5202\n",
      "9   8.3883 14.0202\n",
      "10  6.8204  7.5226\n",
      "11  9.0185 14.3272\n",
      "12  2.6148  3.8950\n",
      "13  3.7367  1.8707\n",
      "14  2.8651  0.8347\n",
      "15 10.7469 18.3413\n",
      "16  2.3710  1.6645\n",
      "17  9.6653 17.0579\n",
      "18  7.1926  9.2375\n",
      "19 11.7833 21.0000\n",
      "20  3.9537  3.5286\n",
      "21 15.0000 25.0000\n",
      "22  7.9152  9.9008\n",
      "23  9.3368 17.5990\n",
      "24  8.7587 13.8790\n",
      "25  6.7813 10.8690\n",
      "26  7.9924 12.6238\n",
      "27  2.2806  0.9719\n",
      "28 10.4050 14.4814\n",
      "29  3.7891  2.1792\n",
      "30 10.9067 18.4052\n"
     ]
    }
   ],
   "source": [
    "csv_data<-read.csv(\"regrex1.csv\")\n",
    "print(csv_data)"
   ]
  },
  {
   "cell_type": "code",
   "execution_count": 7,
   "id": "filled-rebecca",
   "metadata": {},
   "outputs": [
    {
     "data": {
      "text/html": [
       "<strong>png:</strong> 2"
      ],
      "text/latex": [
       "\\textbf{png:} 2"
      ],
      "text/markdown": [
       "**png:** 2"
      ],
      "text/plain": [
       "png \n",
       "  2 "
      ]
     },
     "metadata": {},
     "output_type": "display_data"
    },
    {
     "name": "stdout",
     "output_type": "stream",
     "text": [
      "[1] \"Regrex Data\"\n"
     ]
    }
   ],
   "source": [
    "png('R_Scatter.png')\n",
    "plot(x = csv_data$x,\n",
    "     y = csv_data$y,\n",
    "     xlab = \"x\",\n",
    "     ylab = \"y\",\n",
    "     col = \"black\",\n",
    "     pch = 4,\n",
    "     main = \"regrex1\")\n",
    "dev.off()\n",
    "print('Regrex Data')"
   ]
  },
  {
   "cell_type": "code",
   "execution_count": 8,
   "id": "usual-puppy",
   "metadata": {},
   "outputs": [
    {
     "name": "stdout",
     "output_type": "stream",
     "text": [
      "[1] \"Printing Scatterplot\"\n"
     ]
    }
   ],
   "source": [
    "png('R_linReg.png')\n",
    "plot(x = csv_data$x,\n",
    "     y = csv_data$y,\n",
    "     xlab = \"x\",\n",
    "     ylab = \"y\",\n",
    "     col = \"black\",\n",
    "     pch = 4,\n",
    "     main = \"Regrex Data\")\n",
    "\n",
    "abline(lm(csv_data$y ~ csv_data$x,\n",
    "          data = csv_data), col = \"black\")\n",
    "print('Printing Scatterplot')"
   ]
  },
  {
   "cell_type": "code",
   "execution_count": 9,
   "id": "commercial-thesis",
   "metadata": {},
   "outputs": [
    {
     "name": "stdout",
     "output_type": "stream",
     "text": [
      "[1] \"Done\"\n"
     ]
    }
   ],
   "source": [
    "print('Done')"
   ]
  },
  {
   "cell_type": "code",
   "execution_count": null,
   "id": "rapid-booking",
   "metadata": {},
   "outputs": [],
   "source": []
  }
 ],
 "metadata": {
  "kernelspec": {
   "display_name": "R",
   "language": "R",
   "name": "ir"
  },
  "language_info": {
   "codemirror_mode": "r",
   "file_extension": ".r",
   "mimetype": "text/x-r-source",
   "name": "R",
   "pygments_lexer": "r",
   "version": "4.0.1"
  }
 },
 "nbformat": 4,
 "nbformat_minor": 5
}
